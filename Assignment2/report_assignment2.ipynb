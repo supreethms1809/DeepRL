{
 "cells": [
  {
   "cell_type": "markdown",
   "metadata": {},
   "source": [
    "# Assignment 2\n",
    "\n",
    "**Author**: Supreeth Suresh\n",
    "**Date**: 3/7/2025"
   ]
  },
  {
   "cell_type": "markdown",
   "metadata": {},
   "source": [
    "![Question 1](./images/Q1.png)"
   ]
  },
  {
   "cell_type": "markdown",
   "metadata": {},
   "source": [
    "Given \n",
    "\n",
    "states = (A, B, C)\n",
    "actions = (ab, ba, bc, ca, cb)\n",
    "V1(s) = (2, 2, 2)\n",
    "gamma = 0.5\n",
    "policy = uniform random policy \n",
    "\n",
    "$$ V_k(s) = \\sum_{a \\in A} \\pi(a|s) (r + \\gamma \\sum_{s' in S} p(s'|s,a) * V_{k-1}(s')) $$"
   ]
  },
  {
   "cell_type": "code",
   "execution_count": 2,
   "metadata": {},
   "outputs": [
    {
     "data": {
      "text/plain": [
       "[-7.0, 1.0, 7.0]"
      ]
     },
     "execution_count": 2,
     "metadata": {},
     "output_type": "execute_result"
    }
   ],
   "source": [
    "import os\n",
    "import logging\n",
    "\n",
    "from cycler import V\n",
    "\n",
    "logging.basicConfig(level=logging.INFO)\n",
    "\n",
    "states = [\"A\", \"B\", \"C\"]\n",
    "actions = [\"ab\", \"bc\", \"ba\", \"ca\", \"cb\"]\n",
    "transitions_reward = {\n",
    "    \"A\": {\"ab\": -8},\n",
    "    \"B\": {\"ba\": 2, \"bc\": -2},\n",
    "    \"C\": {\"cb\": 8, \"ca\": 4} \n",
    "}\n",
    "transitions_prob = {\n",
    "    \"A\": {\"ab\": 1},\n",
    "    \"B\": {\"ba\": 1, \"bc\": 1},\n",
    "    \"C\": {\"cb\": 1, \"ca\": 0.25, \"cc\": 0.75}\n",
    "}\n",
    "\n",
    "gamma = 0.5\n",
    "\n",
    "V1 = [2, 2, 2]\n",
    "\n",
    "V2A = 1 * (transitions_reward[\"A\"][\"ab\"] + gamma * transitions_prob[\"A\"][\"ab\"] * V1[0])\n",
    "V2B = 0.5 * (transitions_reward[\"B\"][\"ba\"] + gamma * transitions_prob[\"B\"][\"ba\"] * V1[1]) + \\\n",
    "    0.5 * (transitions_reward[\"B\"][\"bc\"] + gamma * transitions_prob[\"B\"][\"bc\"] * V1[1])\n",
    "V2C = 0.5 * (transitions_reward[\"C\"][\"cb\"] + gamma * transitions_prob[\"C\"][\"cb\"] * V1[2]) + \\\n",
    "    0.5 * (transitions_reward[\"C\"][\"ca\"] + gamma * (transitions_prob[\"C\"][\"ca\"] * V1[2] + transitions_prob[\"C\"][\"cc\"] * V1[2]))\n",
    "V2 = [V2A, V2B, V2C]\n",
    "V2\n"
   ]
  },
  {
   "cell_type": "markdown",
   "metadata": {},
   "source": [
    "![Question 2](./images/Q2_1.png)"
   ]
  },
  {
   "cell_type": "markdown",
   "metadata": {},
   "source": [
    "State s and Action a belong to {-1, 0, 1} <br> <br>\n",
    "Feature vector $\\phi (s,a) = \\begin{bmatrix} 2 . s \\\\ a \\\\ 0.5 \\end{bmatrix}$ <br><br>\n",
    "\n",
    "Weight vector $W = \\begin{bmatrix} w_0 \\\\ w_1 \\\\ w_2 \\end{bmatrix}$\n",
    "<br>\n",
    "\n",
    "Q value: $q(s,a;w)$ is Linear combination of Weight and Feature vector\n",
    "<br>\n",
    "\n",
    "$$q(s,a;w) = W^T . \\phi (s,a) $$\n",
    "\n",
    "So, \n",
    "<br>\n",
    "$$q(s,a;w) =  w_o . (2 . s) + w_1 . a + w_2 . 0.5 $$\n",
    "$$q(s,a;w) =  2sw_o + aw_1 + 0.5w_2 $$\n",
    "\n",
    "### Note: Should I add bias here? "
   ]
  },
  {
   "cell_type": "markdown",
   "metadata": {},
   "source": [
    "![Question 2](./images/Q2_2.png)"
   ]
  },
  {
   "cell_type": "markdown",
   "metadata": {},
   "source": [
    "### 2\n",
    "After single sample (s,a,r,s') <br><br>\n",
    "Assuming weight vector of target network <br><br>\n",
    "Target Weight vector $W^- = \\begin{bmatrix} w^-_0 \\\\ w^-_1 \\\\ w^-_2 \\end{bmatrix}$ <br> <br>\n",
    "loss_fn is obtained using TD error\n",
    "<br><br>\n",
    "So, TD target $$y = r + \\gamma \\max_{a'} q(s',a'; w^-)$$\n",
    "<br><br>\n",
    "$$  TD Error = (q(s,a;w) - y)$$\n",
    "\n",
    "[comment]: <> (Difference between this and the MSE?)\n",
    "[comment]: <> ($$ J(w) = \\nabla_w q(s,a;w) * (q(s,a;w) - y)$$)\n",
    "\n",
    "[comment]: <> ($$ J(w) = \\nabla_w q(s,a;w) * (q(s,a;w) - (r + \\gamma \\max_{a'} q(s',a'; w^-))$$)\n",
    "#######################################################)\n",
    "\n",
    "\n",
    "$$ J(w) = MSE(Predicted Q - Target Q) $$\n",
    "\n",
    "$$ J(w) = 0.5 * (q(s,a;w) - y)^2 $$\n",
    "\n",
    "### Note: Check this\n"
   ]
  },
  {
   "cell_type": "markdown",
   "metadata": {},
   "source": [
    "\n",
    "### 3\n",
    "Weight vector $W = \\begin{bmatrix} -2 \\\\ 1 \\\\ -1 \\end{bmatrix}$ <br> <br>\n",
    "Target Weight vector $W^- = \\begin{bmatrix} -1 \\\\ 2 \\\\ 1 \\end{bmatrix}$ <br> <br>\n",
    "\n",
    "Sample ((s = 1, a = 0, r = 2, s' = 2)) <br><br>\n",
    "Learning rate $\\alpha = 0.2$\n",
    "\n",
    "\n",
    "\n"
   ]
  }
 ],
 "metadata": {
  "kernelspec": {
   "display_name": "DRL",
   "language": "python",
   "name": "python3"
  },
  "language_info": {
   "codemirror_mode": {
    "name": "ipython",
    "version": 3
   },
   "file_extension": ".py",
   "mimetype": "text/x-python",
   "name": "python",
   "nbconvert_exporter": "python",
   "pygments_lexer": "ipython3",
   "version": "3.13.2"
  }
 },
 "nbformat": 4,
 "nbformat_minor": 2
}
